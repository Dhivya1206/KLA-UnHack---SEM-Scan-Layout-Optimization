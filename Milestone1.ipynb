{
  "nbformat": 4,
  "nbformat_minor": 0,
  "metadata": {
    "colab": {
      "provenance": []
    },
    "kernelspec": {
      "name": "python3",
      "display_name": "Python 3"
    },
    "language_info": {
      "name": "python"
    }
  },
  "cells": [
    {
      "cell_type": "markdown",
      "source": [
        "# ***Milestone 1***"
      ],
      "metadata": {
        "id": "liHI2VxKO4aV"
      }
    },
    {
      "cell_type": "code",
      "execution_count": 2,
      "metadata": {
        "colab": {
          "base_uri": "https://localhost:8080/"
        },
        "id": "sV5wRqYj0UAz",
        "outputId": "339656c5-8c59-42f6-e5dc-89b84b7fef84",
        "collapsed": true
      },
      "outputs": [
        {
          "output_type": "stream",
          "name": "stdout",
          "text": [
            "Output saved to       ID          Xmin          Xmax         Ymin         Ymax\n",
            "0      0   6035.444017   6155.444017  6760.762124  6880.762124\n",
            "1      1   6235.444017   6355.444017  6760.762124  6880.762124\n",
            "2      2   6435.444017   6555.444017  6760.762124  6880.762124\n",
            "3      3   6635.444017   6755.444017  6760.762124  6880.762124\n",
            "4      4   6835.444017   6955.444017  6760.762124  6880.762124\n",
            "..   ...           ...           ...          ...          ...\n",
            "164  164  38835.444020  38955.444020  6760.762124  6880.762124\n",
            "165  165  39035.444020  39155.444020  6760.762124  6880.762124\n",
            "166  166  39235.444020  39355.444020  6760.762124  6880.762124\n",
            "167  167  39435.444020  39555.444020  6760.762124  6880.762124\n",
            "168  168  39635.444020  39755.444020  6760.762124  6880.762124\n",
            "\n",
            "[169 rows x 5 columns]:\n",
            "      ID          Xmin          Xmax         Ymin         Ymax\n",
            "0      0   6035.444017   6155.444017  6760.762124  6880.762124\n",
            "1      1   6235.444017   6355.444017  6760.762124  6880.762124\n",
            "2      2   6435.444017   6555.444017  6760.762124  6880.762124\n",
            "3      3   6635.444017   6755.444017  6760.762124  6880.762124\n",
            "4      4   6835.444017   6955.444017  6760.762124  6880.762124\n",
            "..   ...           ...           ...          ...          ...\n",
            "164  164  38835.444020  38955.444020  6760.762124  6880.762124\n",
            "165  165  39035.444020  39155.444020  6760.762124  6880.762124\n",
            "166  166  39235.444020  39355.444020  6760.762124  6880.762124\n",
            "167  167  39435.444020  39555.444020  6760.762124  6880.762124\n",
            "168  168  39635.444020  39755.444020  6760.762124  6880.762124\n",
            "\n",
            "[169 rows x 5 columns]\n",
            "Output saved to           ID          Xmin          Xmax         Ymin         Ymax  \\\n",
            "0          0   6040.444017   6045.564017  6765.762124  6770.882124   \n",
            "1          1   6040.444017   6045.564017  6770.882124  6776.002124   \n",
            "2          2   6040.444017   6045.564017  6776.002124  6781.122124   \n",
            "3          3   6040.444017   6045.564017  6781.122124  6786.242124   \n",
            "4          4   6040.444017   6045.564017  6786.242124  6791.362124   \n",
            "...      ...           ...           ...          ...          ...   \n",
            "81791  81791  39747.964020  39750.444020  6852.802124  6857.922124   \n",
            "81792  81792  39747.964020  39750.444020  6857.922124  6863.042124   \n",
            "81793  81793  39747.964020  39750.444020  6863.042124  6868.162124   \n",
            "81794  81794  39747.964020  39750.444020  6868.162124  6873.282124   \n",
            "81795  81795  39747.964020  39750.444020  6873.282124  6875.762124   \n",
            "\n",
            "       Main Field ID  \n",
            "0                  0  \n",
            "1                  0  \n",
            "2                  0  \n",
            "3                  0  \n",
            "4                  0  \n",
            "...              ...  \n",
            "81791            168  \n",
            "81792            168  \n",
            "81793            168  \n",
            "81794            168  \n",
            "81795            168  \n",
            "\n",
            "[81796 rows x 6 columns]:\n",
            "          ID          Xmin          Xmax         Ymin         Ymax  \\\n",
            "0          0   6040.444017   6045.564017  6765.762124  6770.882124   \n",
            "1          1   6040.444017   6045.564017  6770.882124  6776.002124   \n",
            "2          2   6040.444017   6045.564017  6776.002124  6781.122124   \n",
            "3          3   6040.444017   6045.564017  6781.122124  6786.242124   \n",
            "4          4   6040.444017   6045.564017  6786.242124  6791.362124   \n",
            "...      ...           ...           ...          ...          ...   \n",
            "81791  81791  39747.964020  39750.444020  6852.802124  6857.922124   \n",
            "81792  81792  39747.964020  39750.444020  6857.922124  6863.042124   \n",
            "81793  81793  39747.964020  39750.444020  6863.042124  6868.162124   \n",
            "81794  81794  39747.964020  39750.444020  6868.162124  6873.282124   \n",
            "81795  81795  39747.964020  39750.444020  6873.282124  6875.762124   \n",
            "\n",
            "       Main Field ID  \n",
            "0                  0  \n",
            "1                  0  \n",
            "2                  0  \n",
            "3                  0  \n",
            "4                  0  \n",
            "...              ...  \n",
            "81791            168  \n",
            "81792            168  \n",
            "81793            168  \n",
            "81794            168  \n",
            "81795            168  \n",
            "\n",
            "[81796 rows x 6 columns]\n"
          ]
        }
      ],
      "source": [
        "import pandas as pd\n",
        "import numpy as np\n",
        "\n",
        "\n",
        "care_area_data = pd.read_csv('CareAreas1.csv', header=None, names=['ID', 'Xmin', 'Xmax', 'Ymin', 'Ymax'])\n",
        "\n",
        "main_field_size = 110.0\n",
        "sub_field_size = 5.12\n",
        "\n",
        "\n",
        "def generate_main_fields(care_area_data, main_field_size):\n",
        "    main_fields = []\n",
        "    for i, row in care_area_data.iterrows():\n",
        "        x1, y1 = row['Xmin'], row['Ymin']\n",
        "        x2, y2 = x1 + main_field_size, y1 + main_field_size\n",
        "        main_field = {\n",
        "            'ID': i,\n",
        "            'Xmin': x1 - 5,\n",
        "            'Xmax': x2 + 5,\n",
        "            'Ymin': y1 - 5,\n",
        "            'Ymax': y2 + 5\n",
        "        }\n",
        "        main_fields.append(main_field)\n",
        "    return pd.DataFrame(main_fields)\n",
        "\n",
        "def generate_sub_fields(main_fields, sub_field_size):\n",
        "    sub_fields = []\n",
        "    for main_field in main_fields.itertuples():\n",
        "        x_start, y_start = main_field.Xmin + 5, main_field.Ymin + 5\n",
        "        x_end, y_end = main_field.Xmax - 5, main_field.Ymax - 5\n",
        "        x_steps = int(np.ceil((x_end - x_start) / sub_field_size))\n",
        "        y_steps = int(np.ceil((y_end - y_start) / sub_field_size))\n",
        "\n",
        "        for i in range(x_steps):\n",
        "            for j in range(y_steps):\n",
        "                x1 = x_start + i * sub_field_size\n",
        "                y1 = y_start + j * sub_field_size\n",
        "                x2 = min(x1 + sub_field_size, x_end)\n",
        "                y2 = min(y1 + sub_field_size, y_end)\n",
        "                if x1 < x_end and y1 < y_end:\n",
        "                    sub_field = {\n",
        "                        'ID': len(sub_fields),\n",
        "                        'Xmin': x1,\n",
        "                        'Xmax': x2,\n",
        "                        'Ymin': y1,\n",
        "                        'Ymax': y2,\n",
        "                        'Main Field ID': main_field.ID\n",
        "                    }\n",
        "                    sub_fields.append(sub_field)\n",
        "    return pd.DataFrame(sub_fields)\n",
        "\n",
        "main_fields = generate_main_fields(care_area_data, main_field_size)\n",
        "sub_fields = generate_sub_fields(main_fields, sub_field_size)\n",
        "\n",
        "main_fields.to_csv('MainFields.csv', index=False)\n",
        "sub_fields.to_csv('SubFields.csv', index=False)\n",
        "\n",
        "print(f\"Output saved to {main_fields}:\")\n",
        "print(main_fields)\n",
        "\n",
        "print(f\"Output saved to {sub_fields}:\")\n",
        "print(sub_fields)\n"
      ]
    },
    {
      "cell_type": "code",
      "source": [
        "\n",
        "from google.colab import files\n",
        "files.download('MainFields.csv')\n",
        "files.download('SubFields.csv')"
      ],
      "metadata": {
        "colab": {
          "base_uri": "https://localhost:8080/",
          "height": 17
        },
        "id": "vA8XFmr22sLO",
        "outputId": "001bd08e-3c1c-490a-dfed-b67a963723f2"
      },
      "execution_count": null,
      "outputs": [
        {
          "output_type": "display_data",
          "data": {
            "text/plain": [
              "<IPython.core.display.Javascript object>"
            ],
            "application/javascript": [
              "\n",
              "    async function download(id, filename, size) {\n",
              "      if (!google.colab.kernel.accessAllowed) {\n",
              "        return;\n",
              "      }\n",
              "      const div = document.createElement('div');\n",
              "      const label = document.createElement('label');\n",
              "      label.textContent = `Downloading \"${filename}\": `;\n",
              "      div.appendChild(label);\n",
              "      const progress = document.createElement('progress');\n",
              "      progress.max = size;\n",
              "      div.appendChild(progress);\n",
              "      document.body.appendChild(div);\n",
              "\n",
              "      const buffers = [];\n",
              "      let downloaded = 0;\n",
              "\n",
              "      const channel = await google.colab.kernel.comms.open(id);\n",
              "      // Send a message to notify the kernel that we're ready.\n",
              "      channel.send({})\n",
              "\n",
              "      for await (const message of channel.messages) {\n",
              "        // Send a message to notify the kernel that we're ready.\n",
              "        channel.send({})\n",
              "        if (message.buffers) {\n",
              "          for (const buffer of message.buffers) {\n",
              "            buffers.push(buffer);\n",
              "            downloaded += buffer.byteLength;\n",
              "            progress.value = downloaded;\n",
              "          }\n",
              "        }\n",
              "      }\n",
              "      const blob = new Blob(buffers, {type: 'application/binary'});\n",
              "      const a = document.createElement('a');\n",
              "      a.href = window.URL.createObjectURL(blob);\n",
              "      a.download = filename;\n",
              "      div.appendChild(a);\n",
              "      a.click();\n",
              "      div.remove();\n",
              "    }\n",
              "  "
            ]
          },
          "metadata": {}
        },
        {
          "output_type": "display_data",
          "data": {
            "text/plain": [
              "<IPython.core.display.Javascript object>"
            ],
            "application/javascript": [
              "download(\"download_8adc6417-fb3d-4586-9ae7-e93106666041\", \"MainFields.csv\", 8701)"
            ]
          },
          "metadata": {}
        },
        {
          "output_type": "display_data",
          "data": {
            "text/plain": [
              "<IPython.core.display.Javascript object>"
            ],
            "application/javascript": [
              "\n",
              "    async function download(id, filename, size) {\n",
              "      if (!google.colab.kernel.accessAllowed) {\n",
              "        return;\n",
              "      }\n",
              "      const div = document.createElement('div');\n",
              "      const label = document.createElement('label');\n",
              "      label.textContent = `Downloading \"${filename}\": `;\n",
              "      div.appendChild(label);\n",
              "      const progress = document.createElement('progress');\n",
              "      progress.max = size;\n",
              "      div.appendChild(progress);\n",
              "      document.body.appendChild(div);\n",
              "\n",
              "      const buffers = [];\n",
              "      let downloaded = 0;\n",
              "\n",
              "      const channel = await google.colab.kernel.comms.open(id);\n",
              "      // Send a message to notify the kernel that we're ready.\n",
              "      channel.send({})\n",
              "\n",
              "      for await (const message of channel.messages) {\n",
              "        // Send a message to notify the kernel that we're ready.\n",
              "        channel.send({})\n",
              "        if (message.buffers) {\n",
              "          for (const buffer of message.buffers) {\n",
              "            buffers.push(buffer);\n",
              "            downloaded += buffer.byteLength;\n",
              "            progress.value = downloaded;\n",
              "          }\n",
              "        }\n",
              "      }\n",
              "      const blob = new Blob(buffers, {type: 'application/binary'});\n",
              "      const a = document.createElement('a');\n",
              "      a.href = window.URL.createObjectURL(blob);\n",
              "      a.download = filename;\n",
              "      div.appendChild(a);\n",
              "      a.click();\n",
              "      div.remove();\n",
              "    }\n",
              "  "
            ]
          },
          "metadata": {}
        },
        {
          "output_type": "display_data",
          "data": {
            "text/plain": [
              "<IPython.core.display.Javascript object>"
            ],
            "application/javascript": [
              "download(\"download_c990da31-9d98-43a7-bc53-1632b3ed8858\", \"SubFields.csv\", 5471503)"
            ]
          },
          "metadata": {}
        }
      ]
    }
  ]
}