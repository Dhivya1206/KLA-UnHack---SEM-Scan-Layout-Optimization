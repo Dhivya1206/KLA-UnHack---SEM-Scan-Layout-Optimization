{
  "nbformat": 4,
  "nbformat_minor": 0,
  "metadata": {
    "colab": {
      "provenance": []
    },
    "kernelspec": {
      "name": "python3",
      "display_name": "Python 3"
    },
    "language_info": {
      "name": "python"
    }
  },
  "cells": [
    {
      "cell_type": "code",
      "source": [
        "import pandas as pd\n",
        "import numpy as np\n",
        "\n",
        "\n",
        "care_area_data = pd.read_csv('CareAreas.csv', header=None, names=['ID', 'Xmin', 'Xmax', 'Ymin', 'Ymax'])\n",
        "\n",
        "main_field_size = 110.0\n",
        "sub_field_size = 5.12\n",
        "\n",
        "\n",
        "def generate_main_fields(care_area_data, main_field_size):\n",
        "    main_fields = []\n",
        "    for i, row in care_area_data.iterrows():\n",
        "        x1, y1 = row['Xmin'], row['Ymin']\n",
        "        x2, y2 = x1 + main_field_size, y1 + main_field_size\n",
        "        main_field = {\n",
        "            'ID': i,\n",
        "            'Xmin': x1 - 5,\n",
        "            'Xmax': x2 + 5,\n",
        "            'Ymin': y1 - 5,\n",
        "            'Ymax': y2 + 5\n",
        "        }\n",
        "        main_fields.append(main_field)\n",
        "    return pd.DataFrame(main_fields)\n",
        "\n",
        "def generate_sub_fields(main_fields, sub_field_size):\n",
        "    sub_fields = []\n",
        "    for main_field in main_fields.itertuples():\n",
        "        x_start, y_start = main_field.Xmin + 5, main_field.Ymin + 5\n",
        "        x_end, y_end = main_field.Xmax - 5, main_field.Ymax - 5\n",
        "        x_steps = int(np.ceil((x_end - x_start) / sub_field_size))\n",
        "        y_steps = int(np.ceil((y_end - y_start) / sub_field_size))\n",
        "\n",
        "        for i in range(x_steps):\n",
        "            for j in range(y_steps):\n",
        "                x1 = x_start + i * sub_field_size\n",
        "                y1 = y_start + j * sub_field_size\n",
        "                x2 = min(x1 + sub_field_size, x_end)\n",
        "                y2 = min(y1 + sub_field_size, y_end)\n",
        "                if x1 < x_end and y1 < y_end:\n",
        "                    sub_field = {\n",
        "                        'ID': len(sub_fields),\n",
        "                        'Xmin': x1,\n",
        "                        'Xmax': x2,\n",
        "                        'Ymin': y1,\n",
        "                        'Ymax': y2,\n",
        "                        'Main Field ID': main_field.ID\n",
        "                    }\n",
        "                    sub_fields.append(sub_field)\n",
        "    return pd.DataFrame(sub_fields)\n",
        "\n",
        "main_fields = generate_main_fields(care_area_data, main_field_size)\n",
        "sub_fields = generate_sub_fields(main_fields, sub_field_size)\n",
        "\n",
        "main_fields.to_csv('MainFields.csv', index=False)\n",
        "sub_fields.to_csv('SubFields.csv', index=False)\n",
        "\n",
        "print(f\"Output saved to {main_fields}:\")\n",
        "print(main_fields)\n",
        "\n",
        "print(f\"Output saved to {sub_fields}:\")\n",
        "print(sub_fields)\n"
      ],
      "metadata": {
        "colab": {
          "base_uri": "https://localhost:8080/"
        },
        "id": "lLrw0YcUbxzh",
        "outputId": "9810335b-e384-4ae9-9c4c-e51f435075f7"
      },
      "execution_count": 11,
      "outputs": [
        {
          "output_type": "stream",
          "name": "stdout",
          "text": [
            "Output saved to    ID         Xmin         Xmax         Ymin         Ymax\n",
            "0   0  6040.444017  6150.444017  6765.762124  6875.762124\n",
            "1   1  6240.444017  6350.444017  6765.762124  6875.762124:\n",
            "   ID         Xmin         Xmax         Ymin         Ymax\n",
            "0   0  6040.444017  6150.444017  6765.762124  6875.762124\n",
            "1   1  6240.444017  6350.444017  6765.762124  6875.762124\n",
            "Output saved to       ID         Xmin         Xmax         Ymin         Ymax  Main Field ID\n",
            "0      0  6045.444017  6050.564017  6770.762124  6775.882124              0\n",
            "1      1  6045.444017  6050.564017  6775.882124  6781.002124              0\n",
            "2      2  6045.444017  6050.564017  6781.002124  6786.122124              0\n",
            "3      3  6045.444017  6050.564017  6786.122124  6791.242124              0\n",
            "4      4  6045.444017  6050.564017  6791.242124  6796.362124              0\n",
            "..   ...          ...          ...          ...          ...            ...\n",
            "795  795  6342.724017  6345.444017  6847.562124  6852.682124              1\n",
            "796  796  6342.724017  6345.444017  6852.682124  6857.802124              1\n",
            "797  797  6342.724017  6345.444017  6857.802124  6862.922124              1\n",
            "798  798  6342.724017  6345.444017  6862.922124  6868.042124              1\n",
            "799  799  6342.724017  6345.444017  6868.042124  6870.762124              1\n",
            "\n",
            "[800 rows x 6 columns]:\n",
            "      ID         Xmin         Xmax         Ymin         Ymax  Main Field ID\n",
            "0      0  6045.444017  6050.564017  6770.762124  6775.882124              0\n",
            "1      1  6045.444017  6050.564017  6775.882124  6781.002124              0\n",
            "2      2  6045.444017  6050.564017  6781.002124  6786.122124              0\n",
            "3      3  6045.444017  6050.564017  6786.122124  6791.242124              0\n",
            "4      4  6045.444017  6050.564017  6791.242124  6796.362124              0\n",
            "..   ...          ...          ...          ...          ...            ...\n",
            "795  795  6342.724017  6345.444017  6847.562124  6852.682124              1\n",
            "796  796  6342.724017  6345.444017  6852.682124  6857.802124              1\n",
            "797  797  6342.724017  6345.444017  6857.802124  6862.922124              1\n",
            "798  798  6342.724017  6345.444017  6862.922124  6868.042124              1\n",
            "799  799  6342.724017  6345.444017  6868.042124  6870.762124              1\n",
            "\n",
            "[800 rows x 6 columns]\n"
          ]
        }
      ]
    },
    {
      "cell_type": "code",
      "source": [
        "\n",
        "from google.colab import files\n",
        "files.download('MainFields.csv')\n",
        "files.download('SubFields.csv')"
      ],
      "metadata": {
        "id": "wMfpip0Rnhkl"
      },
      "execution_count": null,
      "outputs": []
    }
  ]
}