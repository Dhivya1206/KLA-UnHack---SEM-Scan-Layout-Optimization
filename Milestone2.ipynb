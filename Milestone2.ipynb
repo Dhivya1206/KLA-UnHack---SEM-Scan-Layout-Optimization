{
  "nbformat": 4,
  "nbformat_minor": 0,
  "metadata": {
    "colab": {
      "provenance": []
    },
    "kernelspec": {
      "name": "python3",
      "display_name": "Python 3"
    },
    "language_info": {
      "name": "python"
    }
  },
  "cells": [
    {
      "cell_type": "code",
      "source": [
        "import pandas as pd\n",
        "import numpy as np\n",
        "\n",
        "# Read the care area data\n",
        "care_area_data = pd.read_csv('CareAreas.csv', header=None, names=['ID', 'Xmin', 'Xmax', 'Ymin', 'Ymax'])\n",
        "\n",
        "# Define the main field and sub field sizes\n",
        "main_field_size = 100.0\n",
        "sub_field_size = 2.56\n",
        "\n",
        "# Function to generate main fields that cover multiple care areas\n",
        "def generate_main_fields(care_area_data, main_field_size):\n",
        "    main_fields = []\n",
        "    care_area_data['MainFieldID'] = np.nan\n",
        "\n",
        "    x_min = care_area_data['Xmin'].min()\n",
        "    x_max = care_area_data['Xmax'].max()\n",
        "    y_min = care_area_data['Ymin'].min()\n",
        "    y_max = care_area_data['Ymax'].max()\n",
        "\n",
        "    x_steps = int(np.ceil((x_max - x_min) / main_field_size))\n",
        "    y_steps = int(np.ceil((y_max - y_min) / main_field_size))\n",
        "\n",
        "    main_field_id = 0\n",
        "    for i in range(x_steps):\n",
        "        for j in range(y_steps):\n",
        "            x1 = x_min + i * main_field_size\n",
        "            y1 = y_min + j * main_field_size\n",
        "            x2 = min(x1 + main_field_size, x_max)\n",
        "            y2 = min(y1 + main_field_size, y_max)\n",
        "\n",
        "            intersecting_areas = care_area_data[\n",
        "                ((care_area_data['Xmin'] < x2) & (care_area_data['Xmax'] > x1)) &\n",
        "                ((care_area_data['Ymin'] < y2) & (care_area_data['Ymax'] > y1))\n",
        "            ]\n",
        "\n",
        "            if not intersecting_areas.empty:\n",
        "                main_field = {\n",
        "                    'ID': main_field_id,\n",
        "                    'Xmin': x1,\n",
        "                    'Xmax': x2,\n",
        "                    'Ymin': y1,\n",
        "                    'Ymax': y2\n",
        "                }\n",
        "                main_fields.append(main_field)\n",
        "                care_area_data.loc[intersecting_areas.index, 'MainFieldID'] = main_field_id\n",
        "                main_field_id += 1\n",
        "\n",
        "    return pd.DataFrame(main_fields)\n",
        "\n",
        "# Function to generate sub fields within the main fields\n",
        "def generate_sub_fields(main_fields, care_area_data, sub_field_size):\n",
        "    sub_fields = []\n",
        "    visited_coordinates = set()\n",
        "\n",
        "    for main_field in main_fields.itertuples():\n",
        "        intersecting_areas = care_area_data[care_area_data['MainFieldID'] == main_field.ID]\n",
        "\n",
        "        for care_area in intersecting_areas.itertuples():\n",
        "            x_start, y_start = care_area.Xmin, care_area.Ymin\n",
        "            x_end, y_end = care_area.Xmax, care_area.Ymax\n",
        "            x_steps = int(np.ceil((x_end - x_start) / sub_field_size))\n",
        "            y_steps = int(np.ceil((y_end - y_start) / sub_field_size))\n",
        "\n",
        "            for i in range(x_steps):\n",
        "                for j in range(y_steps):\n",
        "                    x1 = x_start + i * sub_field_size\n",
        "                    y1 = y_start + j * sub_field_size\n",
        "                    x2 = min(x1 + sub_field_size, x_end)\n",
        "                    y2 = min(y1 + sub_field_size, y_end)\n",
        "\n",
        "                    if (x1, y1) not in visited_coordinates:\n",
        "                        sub_field = {\n",
        "                            'ID': len(sub_fields),\n",
        "                            'Xmin': x1,\n",
        "                            'Xmax': x2,\n",
        "                            'Ymin': y1,\n",
        "                            'Ymax': y2,\n",
        "                            'Main Field ID': main_field.ID\n",
        "                        }\n",
        "                        sub_fields.append(sub_field)\n",
        "\n",
        "                        visited_coordinates.add((x1, y1))\n",
        "                        visited_coordinates.add((x2, y2))\n",
        "\n",
        "    return pd.DataFrame(sub_fields)\n",
        "\n",
        "# Generate main fields and sub fields\n",
        "main_fields = generate_main_fields(care_area_data, main_field_size)\n",
        "sub_fields = generate_sub_fields(main_fields, care_area_data, sub_field_size)\n",
        "\n",
        "# Save the results to CSV files\n",
        "main_fields.to_csv('MainFields2.csv', index=False)\n",
        "sub_fields.to_csv('SubFields2.csv', index=False)\n",
        "\n",
        "print(\"Main Fields:\")\n",
        "print(main_fields)\n",
        "\n",
        "print(\"Sub Fields:\")\n",
        "print(sub_fields)\n"
      ],
      "metadata": {
        "id": "pUyX7XOEuKa_"
      },
      "execution_count": null,
      "outputs": []
    },
    {
      "cell_type": "code",
      "source": [
        "from google.colab import files\n",
        "files.download('MainFields2.csv')\n",
        "files.download('SubFields2.csv')"
      ],
      "metadata": {
        "colab": {
          "base_uri": "https://localhost:8080/",
          "height": 17
        },
        "id": "XjvQwsOvWuow",
        "outputId": "03d7a57b-2406-45ca-e9bf-043368109791"
      },
      "execution_count": 8,
      "outputs": [
        {
          "output_type": "display_data",
          "data": {
            "text/plain": [
              "<IPython.core.display.Javascript object>"
            ],
            "application/javascript": [
              "\n",
              "    async function download(id, filename, size) {\n",
              "      if (!google.colab.kernel.accessAllowed) {\n",
              "        return;\n",
              "      }\n",
              "      const div = document.createElement('div');\n",
              "      const label = document.createElement('label');\n",
              "      label.textContent = `Downloading \"${filename}\": `;\n",
              "      div.appendChild(label);\n",
              "      const progress = document.createElement('progress');\n",
              "      progress.max = size;\n",
              "      div.appendChild(progress);\n",
              "      document.body.appendChild(div);\n",
              "\n",
              "      const buffers = [];\n",
              "      let downloaded = 0;\n",
              "\n",
              "      const channel = await google.colab.kernel.comms.open(id);\n",
              "      // Send a message to notify the kernel that we're ready.\n",
              "      channel.send({})\n",
              "\n",
              "      for await (const message of channel.messages) {\n",
              "        // Send a message to notify the kernel that we're ready.\n",
              "        channel.send({})\n",
              "        if (message.buffers) {\n",
              "          for (const buffer of message.buffers) {\n",
              "            buffers.push(buffer);\n",
              "            downloaded += buffer.byteLength;\n",
              "            progress.value = downloaded;\n",
              "          }\n",
              "        }\n",
              "      }\n",
              "      const blob = new Blob(buffers, {type: 'application/binary'});\n",
              "      const a = document.createElement('a');\n",
              "      a.href = window.URL.createObjectURL(blob);\n",
              "      a.download = filename;\n",
              "      div.appendChild(a);\n",
              "      a.click();\n",
              "      div.remove();\n",
              "    }\n",
              "  "
            ]
          },
          "metadata": {}
        },
        {
          "output_type": "display_data",
          "data": {
            "text/plain": [
              "<IPython.core.display.Javascript object>"
            ],
            "application/javascript": [
              "download(\"download_e5248d18-7af4-4520-b8b1-6dc2ec4f0bd1\", \"MainFields2.csv\", 1200)"
            ]
          },
          "metadata": {}
        },
        {
          "output_type": "display_data",
          "data": {
            "text/plain": [
              "<IPython.core.display.Javascript object>"
            ],
            "application/javascript": [
              "\n",
              "    async function download(id, filename, size) {\n",
              "      if (!google.colab.kernel.accessAllowed) {\n",
              "        return;\n",
              "      }\n",
              "      const div = document.createElement('div');\n",
              "      const label = document.createElement('label');\n",
              "      label.textContent = `Downloading \"${filename}\": `;\n",
              "      div.appendChild(label);\n",
              "      const progress = document.createElement('progress');\n",
              "      progress.max = size;\n",
              "      div.appendChild(progress);\n",
              "      document.body.appendChild(div);\n",
              "\n",
              "      const buffers = [];\n",
              "      let downloaded = 0;\n",
              "\n",
              "      const channel = await google.colab.kernel.comms.open(id);\n",
              "      // Send a message to notify the kernel that we're ready.\n",
              "      channel.send({})\n",
              "\n",
              "      for await (const message of channel.messages) {\n",
              "        // Send a message to notify the kernel that we're ready.\n",
              "        channel.send({})\n",
              "        if (message.buffers) {\n",
              "          for (const buffer of message.buffers) {\n",
              "            buffers.push(buffer);\n",
              "            downloaded += buffer.byteLength;\n",
              "            progress.value = downloaded;\n",
              "          }\n",
              "        }\n",
              "      }\n",
              "      const blob = new Blob(buffers, {type: 'application/binary'});\n",
              "      const a = document.createElement('a');\n",
              "      a.href = window.URL.createObjectURL(blob);\n",
              "      a.download = filename;\n",
              "      div.appendChild(a);\n",
              "      a.click();\n",
              "      div.remove();\n",
              "    }\n",
              "  "
            ]
          },
          "metadata": {}
        },
        {
          "output_type": "display_data",
          "data": {
            "text/plain": [
              "<IPython.core.display.Javascript object>"
            ],
            "application/javascript": [
              "download(\"download_c1b5887d-5a5b-4881-a7a2-7c4bed8be785\", \"SubFields2.csv\", 6142)"
            ]
          },
          "metadata": {}
        }
      ]
    },
    {
      "cell_type": "code",
      "source": [
        "from google.colab import files\n",
        "files.download('MainFields2.csv')\n",
        "files.download('SubFields2.csv')"
      ],
      "metadata": {
        "colab": {
          "base_uri": "https://localhost:8080/",
          "height": 17
        },
        "id": "yVrDfVRassuU",
        "outputId": "f8e9482f-9c0b-45d6-e7bb-1a9ec179939a"
      },
      "execution_count": 13,
      "outputs": [
        {
          "output_type": "display_data",
          "data": {
            "text/plain": [
              "<IPython.core.display.Javascript object>"
            ],
            "application/javascript": [
              "\n",
              "    async function download(id, filename, size) {\n",
              "      if (!google.colab.kernel.accessAllowed) {\n",
              "        return;\n",
              "      }\n",
              "      const div = document.createElement('div');\n",
              "      const label = document.createElement('label');\n",
              "      label.textContent = `Downloading \"${filename}\": `;\n",
              "      div.appendChild(label);\n",
              "      const progress = document.createElement('progress');\n",
              "      progress.max = size;\n",
              "      div.appendChild(progress);\n",
              "      document.body.appendChild(div);\n",
              "\n",
              "      const buffers = [];\n",
              "      let downloaded = 0;\n",
              "\n",
              "      const channel = await google.colab.kernel.comms.open(id);\n",
              "      // Send a message to notify the kernel that we're ready.\n",
              "      channel.send({})\n",
              "\n",
              "      for await (const message of channel.messages) {\n",
              "        // Send a message to notify the kernel that we're ready.\n",
              "        channel.send({})\n",
              "        if (message.buffers) {\n",
              "          for (const buffer of message.buffers) {\n",
              "            buffers.push(buffer);\n",
              "            downloaded += buffer.byteLength;\n",
              "            progress.value = downloaded;\n",
              "          }\n",
              "        }\n",
              "      }\n",
              "      const blob = new Blob(buffers, {type: 'application/binary'});\n",
              "      const a = document.createElement('a');\n",
              "      a.href = window.URL.createObjectURL(blob);\n",
              "      a.download = filename;\n",
              "      div.appendChild(a);\n",
              "      a.click();\n",
              "      div.remove();\n",
              "    }\n",
              "  "
            ]
          },
          "metadata": {}
        },
        {
          "output_type": "display_data",
          "data": {
            "text/plain": [
              "<IPython.core.display.Javascript object>"
            ],
            "application/javascript": [
              "download(\"download_ba1f6b5d-66fe-4799-8713-f0ba57d02bd6\", \"MainFields2.csv\", 1200)"
            ]
          },
          "metadata": {}
        },
        {
          "output_type": "display_data",
          "data": {
            "text/plain": [
              "<IPython.core.display.Javascript object>"
            ],
            "application/javascript": [
              "\n",
              "    async function download(id, filename, size) {\n",
              "      if (!google.colab.kernel.accessAllowed) {\n",
              "        return;\n",
              "      }\n",
              "      const div = document.createElement('div');\n",
              "      const label = document.createElement('label');\n",
              "      label.textContent = `Downloading \"${filename}\": `;\n",
              "      div.appendChild(label);\n",
              "      const progress = document.createElement('progress');\n",
              "      progress.max = size;\n",
              "      div.appendChild(progress);\n",
              "      document.body.appendChild(div);\n",
              "\n",
              "      const buffers = [];\n",
              "      let downloaded = 0;\n",
              "\n",
              "      const channel = await google.colab.kernel.comms.open(id);\n",
              "      // Send a message to notify the kernel that we're ready.\n",
              "      channel.send({})\n",
              "\n",
              "      for await (const message of channel.messages) {\n",
              "        // Send a message to notify the kernel that we're ready.\n",
              "        channel.send({})\n",
              "        if (message.buffers) {\n",
              "          for (const buffer of message.buffers) {\n",
              "            buffers.push(buffer);\n",
              "            downloaded += buffer.byteLength;\n",
              "            progress.value = downloaded;\n",
              "          }\n",
              "        }\n",
              "      }\n",
              "      const blob = new Blob(buffers, {type: 'application/binary'});\n",
              "      const a = document.createElement('a');\n",
              "      a.href = window.URL.createObjectURL(blob);\n",
              "      a.download = filename;\n",
              "      div.appendChild(a);\n",
              "      a.click();\n",
              "      div.remove();\n",
              "    }\n",
              "  "
            ]
          },
          "metadata": {}
        },
        {
          "output_type": "display_data",
          "data": {
            "text/plain": [
              "<IPython.core.display.Javascript object>"
            ],
            "application/javascript": [
              "download(\"download_be0cefae-01b3-4bf4-a483-3452433ea725\", \"SubFields2.csv\", 6142)"
            ]
          },
          "metadata": {}
        }
      ]
    },
    {
      "cell_type": "code",
      "source": [],
      "metadata": {
        "id": "TVN9W63CukbQ"
      },
      "execution_count": null,
      "outputs": []
    }
  ]
}